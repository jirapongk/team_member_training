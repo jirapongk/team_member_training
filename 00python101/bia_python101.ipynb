{
 "cells": [
  {
   "cell_type": "markdown",
   "metadata": {},
   "source": [
    "## Python Interpreter vs. Compiler\n",
    "\n",
    "- **Python Interpreter**:\n",
    "  - Acts like a **helpful translator**.\n",
    "  - **Reads and executes code line by line**.\n",
    "  - Makes Python a **beginner-friendly** and **versatile** language.\n",
    "\n",
    "- **Compiler**:\n",
    "  - Acts like a **chef**.\n",
    "  - Takes the entire code, **translates it into machine language**, and then runs it."
   ]
  },
  {
   "cell_type": "markdown",
   "metadata": {},
   "source": [
    "## Python Indentation\n",
    "\n",
    "- **Indentation**:\n",
    "  - **Essential for defining code blocks** in Python.\n",
    "  - Replaces the use of braces `{}` found in many other programming languages.\n",
    "\n",
    "- **Consistency**:\n",
    "  - Indentation must be **consistent** throughout the code.\n",
    "  - Typically, **tab** per indentation level is recommended.\n",
    "\n",
    "- **Syntax Errors**:\n",
    "  - Incorrect indentation can lead to **syntax errors**.\n",
    "  - Ensuring proper indentation is crucial for the code to run correctly.\n",
    "\n",
    "- **Readability**:\n",
    "  - Proper indentation enhances the **readability** and **maintainability** of the code."
   ]
  },
  {
   "cell_type": "code",
   "execution_count": 1,
   "metadata": {},
   "outputs": [
    {
     "name": "stdout",
     "output_type": "stream",
     "text": [
      "Five is greater than two!\n"
     ]
    }
   ],
   "source": [
    "if 5 > 2:\n",
    "  print(\"Five is greater than two!\")"
   ]
  },
  {
   "cell_type": "code",
   "execution_count": 2,
   "metadata": {},
   "outputs": [
    {
     "ename": "IndentationError",
     "evalue": "expected an indented block after 'if' statement on line 1 (3793329317.py, line 2)",
     "output_type": "error",
     "traceback": [
      "\u001b[0;36m  Cell \u001b[0;32mIn[2], line 2\u001b[0;36m\u001b[0m\n\u001b[0;31m    print(\"Five is greater than two!\")\u001b[0m\n\u001b[0m    ^\u001b[0m\n\u001b[0;31mIndentationError\u001b[0m\u001b[0;31m:\u001b[0m expected an indented block after 'if' statement on line 1\n"
     ]
    }
   ],
   "source": [
    "if 5 > 2:\n",
    "print(\"Five is greater than two!\")"
   ]
  },
  {
   "cell_type": "markdown",
   "metadata": {},
   "source": [
    "## Basic Data Types in Python"
   ]
  },
  {
   "cell_type": "code",
   "execution_count": 8,
   "metadata": {},
   "outputs": [],
   "source": [
    "age = 25  # integer\n",
    "height = 5.8  # float \n",
    "name = \"Alice\"  # string\n",
    "is_student = True  # boolean\n",
    "\n",
    "my_list = [1, 2, 3, 4, 5]  # List\n",
    "\n",
    "my_tuple = (1, 2, 3)  # tuple\n",
    "\n",
    "my_dict = {\"name\": \"John\", \"age\": 30}  # Dictionary"
   ]
  },
  {
   "cell_type": "markdown",
   "metadata": {},
   "source": [
    "## Easy Python String Formatting\n",
    "1. Using the format() method: ⭐"
   ]
  },
  {
   "cell_type": "code",
   "execution_count": 5,
   "metadata": {},
   "outputs": [
    {
     "name": "stdout",
     "output_type": "stream",
     "text": [
      "My name is Bob and I'm 30 years old.\n"
     ]
    }
   ],
   "source": [
    "print(\"My name is {name} and I'm {age} years old.\".format(name=\"Bob\", age=30))"
   ]
  },
  {
   "cell_type": "markdown",
   "metadata": {},
   "source": [
    "2. Using f-strings (formatted string literals): ⭐⭐"
   ]
  },
  {
   "cell_type": "code",
   "execution_count": 6,
   "metadata": {},
   "outputs": [
    {
     "name": "stdout",
     "output_type": "stream",
     "text": [
      "My name is Alice and I'm 25 years old.\n"
     ]
    }
   ],
   "source": [
    "print(f\"My name is {name} and I'm {age} years old.\")"
   ]
  },
  {
   "cell_type": "markdown",
   "metadata": {},
   "source": [
    "3. Using the % operator:"
   ]
  },
  {
   "cell_type": "code",
   "execution_count": 7,
   "metadata": {},
   "outputs": [
    {
     "name": "stdout",
     "output_type": "stream",
     "text": [
      "My name is Alice and I'm 25 years old.\n"
     ]
    }
   ],
   "source": [
    "print(\"My name is %s and I'm %d years old.\" % (name, age))"
   ]
  },
  {
   "cell_type": "markdown",
   "metadata": {},
   "source": [
    "## Python List Comprehension\n",
    "\n",
    "### Definition\n",
    "- **List comprehension** is a concise way to create lists in Python.\n",
    "- It allows for the generation of a new list by applying an expression to each item in an existing iterable.\n",
    "\n",
    "### Advantages\n",
    "- **Conciseness**: Reduces the amount of code needed to create lists.\n",
    "- **Readability**: Makes the code more readable and easier to understand.\n",
    "- **Performance**: Often faster than traditional for-loops for creating lists.\n",
    "\n",
    "### Syntax\n",
    "```python\n",
    "[expression for item in iterable if condition]"
   ]
  },
  {
   "cell_type": "code",
   "execution_count": 11,
   "metadata": {},
   "outputs": [],
   "source": [
    "# Traditional for-loop approach\n",
    "squares = []\n",
    "for x in range(10):\n",
    "    squares.append(x**2)\n",
    "\n",
    "# List comprehension approach\n",
    "squares = [x**2 for x in range(10)]\n",
    "\n",
    "# List comprehension with a condition\n",
    "even_squares = [x**2 for x in range(10) if x % 2 == 0]"
   ]
  },
  {
   "cell_type": "code",
   "execution_count": 12,
   "metadata": {},
   "outputs": [
    {
     "data": {
      "text/plain": [
       "[0, 1, 4, 9, 16, 25, 36, 49, 64, 81]"
      ]
     },
     "execution_count": 12,
     "metadata": {},
     "output_type": "execute_result"
    }
   ],
   "source": [
    "squares"
   ]
  },
  {
   "cell_type": "code",
   "execution_count": 13,
   "metadata": {},
   "outputs": [
    {
     "data": {
      "text/plain": [
       "[0, 4, 16, 36, 64]"
      ]
     },
     "execution_count": 13,
     "metadata": {},
     "output_type": "execute_result"
    }
   ],
   "source": [
    "even_squares"
   ]
  },
  {
   "cell_type": "markdown",
   "metadata": {},
   "source": [
    "## Python Lists vs. Tuples: Key Differences\n",
    "\n",
    "### 1. Mutability\n",
    "- **Lists**:\n",
    "  - **Mutable**: Elements can be changed, added, or removed after the list is created.\n",
    "  - **Example**:\n",
    "    ```python\n",
    "    my_list = [1, 2, 3]\n",
    "    my_list = 10  # Changing an element\n",
    "    my_list.append(4)  # Adding an element\n",
    "    my_list.remove(2)  # Removing an element\n",
    "    ```\n",
    "\n",
    "- **Tuples**:\n",
    "  - **Immutable**: Once a tuple is created, its elements cannot be changed, added, or removed.\n",
    "  - **Example**:\n",
    "    ```python\n",
    "    my_tuple = (1, 2, 3)\n",
    "    # The following operations will raise errors\n",
    "    # my_tuple = 10  # TypeError: 'tuple' object does not support item assignment\n",
    "    # my_tuple.append(4)  # AttributeError: 'tuple' object has no attribute 'append'\n",
    "    # my_tuple.remove(2)  # AttributeError: 'tuple' object has no attribute 'remove'\n",
    "    ```\n",
    "\n",
    "### 2. Syntax\n",
    "- **Lists**:\n",
    "  - Defined using square brackets `[]`.\n",
    "  - **Example**:\n",
    "    ```python\n",
    "    my_list = [1, 2, 3]\n",
    "    ```\n",
    "\n",
    "- **Tuples**:\n",
    "  - Defined using parentheses `()`.\n",
    "  - **Example**:\n",
    "    ```python\n",
    "    my_tuple = (1, 2, 3)\n",
    "    ```\n",
    "\n",
    "### 3. Use Cases\n",
    "- **Lists**:\n",
    "  - Suitable for collections of items that may need to be modified.\n",
    "  - **Example**: Managing a list of tasks that can be updated.\n",
    "\n",
    "- **Tuples**:\n",
    "  - Suitable for collections of items that should remain constant.\n",
    "  - **Example**: Storing fixed configuration settings.\n",
    "\n",
    "### Key Points\n",
    "- **Mutability**:\n",
    "  - **Lists**: Mutable, elements can be changed.\n",
    "  - **Tuples**: Immutable, elements cannot be changed.\n",
    "- **Syntax**:\n",
    "  - **Lists**: Use square brackets `[]`.\n",
    "  - **Tuples**: Use parentheses `()`.\n",
    "- **Use Cases**:\n",
    "  - **Lists**: For modifiable collections.\n",
    "  - **Tuples**: For constant collections."
   ]
  },
  {
   "cell_type": "code",
   "execution_count": 17,
   "metadata": {},
   "outputs": [
    {
     "name": "stdout",
     "output_type": "stream",
     "text": [
      "Original list: [1, 2, 3]\n",
      "Modified list: [10, 3, 4]\n",
      "Original tuple: (1, 2, 3)\n"
     ]
    }
   ],
   "source": [
    "# List example\n",
    "my_list = [1, 2, 3]\n",
    "print(\"Original list:\", my_list)\n",
    "my_list[0] = 10\n",
    "my_list.append(4)\n",
    "my_list.remove(2)\n",
    "print(\"Modified list:\", my_list)\n",
    "\n",
    "# Tuple example\n",
    "my_tuple = (1, 2, 3)\n",
    "print(\"Original tuple:\", my_tuple)"
   ]
  },
  {
   "cell_type": "code",
   "execution_count": 18,
   "metadata": {},
   "outputs": [
    {
     "ename": "TypeError",
     "evalue": "'tuple' object does not support item assignment",
     "output_type": "error",
     "traceback": [
      "\u001b[0;31m---------------------------------------------------------------------------\u001b[0m",
      "\u001b[0;31mTypeError\u001b[0m                                 Traceback (most recent call last)",
      "Cell \u001b[0;32mIn[18], line 2\u001b[0m\n\u001b[1;32m      1\u001b[0m \u001b[38;5;66;03m# The following operations will raise errors\u001b[39;00m\n\u001b[0;32m----> 2\u001b[0m \u001b[43mmy_tuple\u001b[49m\u001b[43m[\u001b[49m\u001b[38;5;241;43m0\u001b[39;49m\u001b[43m]\u001b[49m \u001b[38;5;241m=\u001b[39m \u001b[38;5;241m10\u001b[39m\n\u001b[1;32m      3\u001b[0m \u001b[38;5;66;03m# my_tuple.append(4)\u001b[39;00m\n\u001b[1;32m      4\u001b[0m \u001b[38;5;66;03m# my_tuple.remove(2)\u001b[39;00m\n",
      "\u001b[0;31mTypeError\u001b[0m: 'tuple' object does not support item assignment"
     ]
    }
   ],
   "source": [
    "# The following operations will raise errors\n",
    "my_tuple[0] = 10\n",
    "# my_tuple.append(4)\n",
    "# my_tuple.remove(2)"
   ]
  },
  {
   "cell_type": "markdown",
   "metadata": {},
   "source": [
    "## Python Control Flow Statements\n",
    "\n",
    "### Key Points\n",
    "* If-Elif-Else: Conditional execution of code blocks.\n",
    "* For Loop: Iterates over a sequence.\n",
    "* While Loop: Repeats code as long as a condition is True.\n",
    "* Break: Exits the nearest enclosing loop.\n",
    "* Continue: Skips to the next iteration of the loop."
   ]
  },
  {
   "cell_type": "code",
   "execution_count": 21,
   "metadata": {},
   "outputs": [
    {
     "name": "stdout",
     "output_type": "stream",
     "text": [
      "x is positive\n"
     ]
    }
   ],
   "source": [
    "# If-Elif-Else Example\n",
    "x = 10\n",
    "if x > 0:\n",
    "    print(\"x is positive\")\n",
    "elif x == 0:\n",
    "    print(\"x is zero\")\n",
    "else:\n",
    "    print(\"x is negative\")"
   ]
  },
  {
   "cell_type": "code",
   "execution_count": 22,
   "metadata": {},
   "outputs": [
    {
     "name": "stdout",
     "output_type": "stream",
     "text": [
      "apple\n",
      "banana\n",
      "cherry\n"
     ]
    }
   ],
   "source": [
    "# For Loop Example\n",
    "fruits = [\"apple\", \"banana\", \"cherry\"]\n",
    "for fruit in fruits:\n",
    "    print(fruit)"
   ]
  },
  {
   "cell_type": "code",
   "execution_count": 23,
   "metadata": {},
   "outputs": [
    {
     "name": "stdout",
     "output_type": "stream",
     "text": [
      "0\n",
      "1\n",
      "2\n",
      "3\n",
      "4\n"
     ]
    }
   ],
   "source": [
    "# While Loop Example\n",
    "count = 0\n",
    "while count < 5:\n",
    "    print(count)\n",
    "    count += 1"
   ]
  },
  {
   "cell_type": "code",
   "execution_count": 24,
   "metadata": {},
   "outputs": [
    {
     "name": "stdout",
     "output_type": "stream",
     "text": [
      "0\n",
      "1\n",
      "2\n",
      "3\n",
      "4\n"
     ]
    }
   ],
   "source": [
    "# Break Example\n",
    "# Purpose: Exits the nearest enclosing loop prematurely.\n",
    "for i in range(10):\n",
    "    if i == 5:\n",
    "        break\n",
    "    print(i)"
   ]
  },
  {
   "cell_type": "code",
   "execution_count": 25,
   "metadata": {},
   "outputs": [
    {
     "name": "stdout",
     "output_type": "stream",
     "text": [
      "1\n",
      "3\n",
      "5\n",
      "7\n",
      "9\n"
     ]
    }
   ],
   "source": [
    "# Continue Example\n",
    "# Purpose: Skips the rest of the code inside the loop for the current iteration and moves to the next iteration.\n",
    "for i in range(10):\n",
    "    if i % 2 == 0:\n",
    "        continue\n",
    "    print(i)"
   ]
  },
  {
   "cell_type": "markdown",
   "metadata": {},
   "source": [
    "## Python Functions\n",
    "\n",
    "### Key Points\n",
    "* Function Definition: Use the def keyword to define a function.\n",
    "* Function Calling: Use the function name followed by parentheses to call a function.\n",
    "* Function Reusability: Functions can be reused multiple times, making the code more modular and maintainable."
   ]
  },
  {
   "cell_type": "code",
   "execution_count": 26,
   "metadata": {},
   "outputs": [
    {
     "name": "stdout",
     "output_type": "stream",
     "text": [
      "Hello, Alice!\n",
      "Hello, Bob!\n",
      "Hello, Charlie!\n"
     ]
    }
   ],
   "source": [
    "# Function definition\n",
    "def greet(name):\n",
    "    return f\"Hello, {name}!\"\n",
    "\n",
    "# Function calling\n",
    "message = greet(\"Alice\")\n",
    "print(message)  # Output: Hello, Alice!\n",
    "\n",
    "# Function reusability\n",
    "print(greet(\"Bob\"))    # Output: Hello, Bob!\n",
    "print(greet(\"Charlie\"))  # Output: Hello, Charlie!"
   ]
  },
  {
   "cell_type": "markdown",
   "metadata": {},
   "source": [
    "## Python Lambda Expressions\n",
    "\n",
    "### Definition\n",
    "\n",
    "#### Purpose\n",
    "- **Lambda expressions** are small, anonymous functions defined using the `lambda` keyword.\n",
    "- **Syntax**:\n",
    "  ```python\n",
    "  lambda arguments: expression\n",
    "\n",
    "#### Key Points\n",
    "- Definition: Use the lambda keyword to create small anonymous functions.\n",
    "- Usage: Ideal for short, simple functions, often used as arguments to higher-order functions.\n",
    "- Syntax: lambda arguments: expression."
   ]
  },
  {
   "cell_type": "code",
   "execution_count": 28,
   "metadata": {},
   "outputs": [
    {
     "name": "stdout",
     "output_type": "stream",
     "text": [
      "[1, 4, 9, 16]\n",
      "[2, 4]\n"
     ]
    }
   ],
   "source": [
    "# Using lambda with map\n",
    "numbers = [1, 2, 3, 4]\n",
    "squared = list(map(lambda x: x ** 2, numbers))\n",
    "print(squared)  # Output: [1, 4, 9, 16]\n",
    "\n",
    "# Using lambda with filter\n",
    "even_numbers = list(filter(lambda x: x % 2 == 0, numbers))\n",
    "print(even_numbers)  # Output: [2, 4]"
   ]
  },
  {
   "cell_type": "markdown",
   "metadata": {},
   "source": [
    "## Python Function Arguments: *args and **kwargs\n",
    "\n",
    "### Purpose\n",
    "- **`*args` and `**kwargs`**: Allow functions to accept an arbitrary number of positional and keyword arguments, respectively.\n",
    "\n",
    "### Key Concepts\n",
    "\n",
    "#### *args\n",
    "- **Definition**: `*args` allows a function to accept any number of positional arguments.\n",
    "- **Usage**: Useful when you want to pass a variable number of arguments to a function.\n",
    "- **Syntax**:\n",
    "  ```python\n",
    "  def function_name(*args):\n",
    "      # Code block\n",
    "\n",
    "#### **kwargs\n",
    "- **Definition**: **kwargs allows a function to accept any number of keyword arguments.\n",
    "- **Usage**: Useful when you want to handle named arguments that you have not defined in advance.\n",
    "- **Syntax**:\n",
    "  ```python\n",
    "  def function_name(**kwargs):\n",
    "    # Code block\n",
    "\n",
    "#### Key Points\n",
    "- *args: Allows a function to accept any number of positional arguments.\n",
    "- **kwargs: Allows a function to accept any number of keyword arguments.\n",
    "- Combining *args and **kwargs: Enables a function to handle both positional and keyword arguments simultaneously."
   ]
  },
  {
   "cell_type": "code",
   "execution_count": 5,
   "metadata": {},
   "outputs": [
    {
     "name": "stdout",
     "output_type": "stream",
     "text": [
      "1\n",
      "2\n",
      "3\n",
      "OR\n",
      "args 0 : 1\n",
      "args 1 : 2\n",
      "----------\n",
      "4\n",
      "5\n",
      "OR\n",
      "args 0 : 4\n",
      "args 1 : 5\n"
     ]
    }
   ],
   "source": [
    "# Using *args\n",
    "\n",
    "def print_numbers(*args):\n",
    "    for number in args:\n",
    "        print(number)\n",
    "    print(\"OR\")\n",
    "    print(f\"args 0 : {args[0]}\")\n",
    "    print(f\"args 1 : {args[1]}\")\n",
    "\n",
    "# Calling the function with different numbers of arguments\n",
    "print_numbers(1, 2, 3)\n",
    "print(\"----------\")\n",
    "print_numbers(4, 5)"
   ]
  },
  {
   "cell_type": "code",
   "execution_count": 6,
   "metadata": {},
   "outputs": [
    {
     "name": "stdout",
     "output_type": "stream",
     "text": [
      "name: Alice\n",
      "age: 30\n",
      "city: New York\n",
      "OR\n",
      "kwargs name : Alice\n",
      "----------\n",
      "name: Bob\n",
      "profession: Engineer\n",
      "OR\n",
      "kwargs name : Bob\n"
     ]
    }
   ],
   "source": [
    "# Using **kwargs\n",
    "\n",
    "def print_info(**kwargs):\n",
    "    for key, value in kwargs.items():\n",
    "        print(f\"{key}: {value}\")\n",
    "    print(\"OR\")\n",
    "    print(f\"kwargs name : {kwargs['name']}\")\n",
    "\n",
    "# Calling the function with different keyword arguments\n",
    "print_info(name=\"Alice\", age=30, city=\"New York\")\n",
    "print(\"----------\")\n",
    "print_info(name=\"Bob\", profession=\"Engineer\")"
   ]
  },
  {
   "cell_type": "markdown",
   "metadata": {},
   "source": [
    "## Handling Errors Gracefully in Python\n",
    "\n",
    "### Try-Except\n",
    "\n",
    "#### Purpose\n",
    "- **Try-Except**: Used to catch and handle exceptions that may occur during the execution of a block of code.\n",
    "- **Finally**: A block that will always be executed, regardless of whether an exception was raised or not.\n",
    "- **Syntax**:\n",
    "  ```python\n",
    "    try:\n",
    "        # Code that may raise an exception\n",
    "    except ExceptionType as e:\n",
    "        # Code to handle the exception\n",
    "    finally:\n",
    "        # Code that will always be executed"
   ]
  },
  {
   "cell_type": "code",
   "execution_count": 36,
   "metadata": {},
   "outputs": [
    {
     "name": "stdout",
     "output_type": "stream",
     "text": [
      "Error: division by zero\n",
      "Execution completed.\n"
     ]
    }
   ],
   "source": [
    "try:\n",
    "    result = 10 / 0\n",
    "except Exception as e:\n",
    "    print(f\"Error: {e}\")\n",
    "finally:\n",
    "     print(\"Execution completed.\")"
   ]
  },
  {
   "cell_type": "code",
   "execution_count": 37,
   "metadata": {},
   "outputs": [
    {
     "name": "stdout",
     "output_type": "stream",
     "text": [
      "Error: division by zero\n",
      "Execution completed.\n"
     ]
    },
    {
     "ename": "ZeroDivisionError",
     "evalue": "division by zero",
     "output_type": "error",
     "traceback": [
      "\u001b[0;31m---------------------------------------------------------------------------\u001b[0m",
      "\u001b[0;31mZeroDivisionError\u001b[0m                         Traceback (most recent call last)",
      "Cell \u001b[0;32mIn[37], line 2\u001b[0m\n\u001b[1;32m      1\u001b[0m \u001b[38;5;28;01mtry\u001b[39;00m:\n\u001b[0;32m----> 2\u001b[0m     result \u001b[38;5;241m=\u001b[39m \u001b[38;5;241;43m10\u001b[39;49m\u001b[43m \u001b[49m\u001b[38;5;241;43m/\u001b[39;49m\u001b[43m \u001b[49m\u001b[38;5;241;43m0\u001b[39;49m\n\u001b[1;32m      3\u001b[0m \u001b[38;5;28;01mexcept\u001b[39;00m \u001b[38;5;167;01mException\u001b[39;00m \u001b[38;5;28;01mas\u001b[39;00m e:\n\u001b[1;32m      4\u001b[0m     \u001b[38;5;28mprint\u001b[39m(\u001b[38;5;124mf\u001b[39m\u001b[38;5;124m\"\u001b[39m\u001b[38;5;124mError: \u001b[39m\u001b[38;5;132;01m{\u001b[39;00me\u001b[38;5;132;01m}\u001b[39;00m\u001b[38;5;124m\"\u001b[39m)\n",
      "\u001b[0;31mZeroDivisionError\u001b[0m: division by zero"
     ]
    }
   ],
   "source": [
    "try:\n",
    "    result = 10 / 0\n",
    "except Exception as e:\n",
    "    print(f\"Error: {e}\")\n",
    "    raise\n",
    "finally:\n",
    "     print(\"Execution completed.\")"
   ]
  },
  {
   "cell_type": "markdown",
   "metadata": {},
   "source": [
    "## Python Logging Basics\n",
    "\n",
    "### Purpose\n",
    "- **Logging**: Provides a way to track events that happen when software runs. It is essential for debugging and monitoring applications.\n",
    "\n",
    "### Key Concepts\n",
    "\n",
    "#### Logging Levels\n",
    "- **DEBUG**: Detailed information, typically of interest only when diagnosing problems.\n",
    "- **INFO**: Confirmation that things are working as expected.\n",
    "- **WARNING**: An indication that something unexpected happened, or indicative of some problem in the near future (e.g., ‘disk space low’). The software is still working as expected.\n",
    "- **ERROR**: Due to a more serious problem, the software has not been able to perform some function.\n",
    "- **CRITICAL**: A very serious error, indicating that the program itself may be unable to continue running.\n",
    "\n",
    "#### Basic Configuration\n",
    "- **Purpose**: Set up the logging system with a basic configuration.\n",
    "- **Syntax**:\n",
    "  ```python\n",
    "  import logging\n",
    "\n",
    "  logging.basicConfig(level=logging.LEVEL, format='FORMAT')"
   ]
  },
  {
   "cell_type": "code",
   "execution_count": 38,
   "metadata": {},
   "outputs": [],
   "source": [
    "import logging\n",
    "\n",
    "# Advanced configuration: logging to a file\n",
    "logging.basicConfig(filename='app.log', level=logging.DEBUG, format='%(asctime)s - %(levelname)s - %(message)s')\n",
    "\n",
    "# Logging messages\n",
    "logging.debug(\"This is a debug message\")\n",
    "logging.info(\"This is an info message\")\n",
    "logging.warning(\"This is a warning message\")\n",
    "logging.error(\"This is an error message\")\n",
    "logging.critical(\"This is a critical message\")"
   ]
  },
  {
   "cell_type": "markdown",
   "metadata": {},
   "source": [
    "## Python Classes and Objects Basics\n",
    "\n",
    "### Purpose\n",
    "- **Classes and Objects**: Fundamental concepts in object-oriented programming (OOP) that allow for the creation of reusable and modular code.\n",
    "\n",
    "### Key Concepts\n",
    "\n",
    "#### Classes\n",
    "- **Definition**: A **blueprint** for creating objects. It defines a set of attributes and methods that the created objects will have.\n",
    "- **Syntax**:\n",
    "  ```python\n",
    "  class ClassName:\n",
    "      def __init__(self, parameters):\n",
    "          # Initialize attributes\n",
    "      def method_name(self, parameters):\n",
    "          # Method implementation\n",
    "\n",
    "#### Objects\n",
    "- **Definition**: Instances(**buildings**) of a class. Each object can have unique values for the attributes defined in the class.\n",
    "- **Syntax**:\n",
    "  ```python\n",
    "  object_name = ClassName(arguments)\n",
    "\n",
    "#### Key Points\n",
    "- Class Definition: Use the class keyword to define a class.\n",
    "- Attributes: Variables that belong to the class and are initialized in the __init__ method.\n",
    "- Methods: Functions that belong to the class and define the behavior of the objects.\n",
    "- Objects: Instances of a class created using the class name followed by parentheses."
   ]
  },
  {
   "cell_type": "code",
   "execution_count": 40,
   "metadata": {},
   "outputs": [
    {
     "name": "stdout",
     "output_type": "stream",
     "text": [
      "Dog\n",
      "Buddy\n",
      "3\n",
      "Buddy says woof!\n",
      "Some generic sound\n"
     ]
    }
   ],
   "source": [
    "# Base class\n",
    "class Animal:\n",
    "    def __init__(self, species):\n",
    "        self.species = species\n",
    "\n",
    "    def make_sound(self):\n",
    "        return \"Some generic sound\"\n",
    "\n",
    "# Derived class\n",
    "class Dog(Animal):\n",
    "    def __init__(self, name, age):\n",
    "        super().__init__(species=\"Dog\")\n",
    "        self.name = name\n",
    "        self.age = age\n",
    "\n",
    "    def bark(self):\n",
    "        return f\"{self.name} says woof!\"\n",
    "\n",
    "# Creating an object of the derived class\n",
    "dog = Dog(\"Buddy\", 3)\n",
    "\n",
    "# Accessing attributes and methods\n",
    "print(dog.species)  # Output: Dog\n",
    "print(dog.name)     # Output: Buddy\n",
    "print(dog.age)      # Output: 3\n",
    "print(dog.bark())   # Output: Buddy says woof!\n",
    "print(dog.make_sound())  # Output: Some generic sound"
   ]
  }
 ],
 "metadata": {
  "kernelspec": {
   "display_name": "Python 3",
   "language": "python",
   "name": "python3"
  },
  "language_info": {
   "codemirror_mode": {
    "name": "ipython",
    "version": 3
   },
   "file_extension": ".py",
   "mimetype": "text/x-python",
   "name": "python",
   "nbconvert_exporter": "python",
   "pygments_lexer": "ipython3",
   "version": "3.10.12"
  }
 },
 "nbformat": 4,
 "nbformat_minor": 2
}
